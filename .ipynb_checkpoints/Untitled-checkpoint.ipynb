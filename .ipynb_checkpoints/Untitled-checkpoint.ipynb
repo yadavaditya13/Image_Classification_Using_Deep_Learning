{
 "cells": [
  {
   "cell_type": "code",
   "execution_count": null,
   "metadata": {},
   "outputs": [],
   "source": [
    "from keras.preprocessing.image import img_to_array\n",
    "from keras.models import load_model\n",
    "from imutils import paths\n",
    "\n",
    "import numpy as np\n",
    "import imutils\n",
    "import tkinter\n",
    "import random\n",
    "import pickle\n",
    "import cv2\n",
    "import os"
   ]
  },
  {
   "cell_type": "code",
   "execution_count": null,
   "metadata": {},
   "outputs": [],
   "source": [
    "mw = tkinter.Tk()\n",
    "\n",
    "imagePaths = list(paths.list_images(\"D:/adity/Projects/image_classification/dataset/seg_pred\"))\n",
    "\n",
    "def image_run_inference():\n",
    "    random.shuffle(imagePaths)\n",
    "    test_images = list(imagePaths[:128])\n",
    "    print(test_images)\n",
    "\n",
    "mw.title(\"Image_Classification\")\n",
    "image_button = tkinter.Button(mw, text=\"Run_Inference\", width=20, command=image_run_inference())\n",
    "image_button.pack()\n",
    "\n",
    "mw.mainloop()"
   ]
  },
  {
   "cell_type": "code",
   "execution_count": null,
   "metadata": {},
   "outputs": [],
   "source": []
  }
 ],
 "metadata": {
  "kernelspec": {
   "display_name": "Python 3",
   "language": "python",
   "name": "python3"
  },
  "language_info": {
   "codemirror_mode": {
    "name": "ipython",
    "version": 3
   },
   "file_extension": ".py",
   "mimetype": "text/x-python",
   "name": "python",
   "nbconvert_exporter": "python",
   "pygments_lexer": "ipython3",
   "version": "3.7.4"
  }
 },
 "nbformat": 4,
 "nbformat_minor": 2
}
